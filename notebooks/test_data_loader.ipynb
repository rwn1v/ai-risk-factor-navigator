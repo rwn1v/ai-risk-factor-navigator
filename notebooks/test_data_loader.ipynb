{
 "cells": [
  {
   "cell_type": "code",
   "execution_count": 1,
   "id": "277af749-16bb-4e15-b42f-10899c8cb4af",
   "metadata": {},
   "outputs": [],
   "source": [
    "import yfinance as yf\n",
    "import pandas as pd\n",
    "import pandas_datareader.data as web"
   ]
  },
  {
   "cell_type": "code",
   "execution_count": 8,
   "id": "dbed00ef-e82f-42e2-97a8-45eb1063f6a5",
   "metadata": {},
   "outputs": [
    {
     "name": "stderr",
     "output_type": "stream",
     "text": [
      "[*********************100%***********************]  1 of 1 completed\n"
     ]
    }
   ],
   "source": [
    "data = yf.download('SPY', auto_adjust=False)['Adj Close']"
   ]
  },
  {
   "cell_type": "code",
   "execution_count": 15,
   "id": "0959299b-2c60-4050-a081-f8fc8eb6eacc",
   "metadata": {},
   "outputs": [
    {
     "data": {
      "text/plain": [
       "pandas.core.frame.DataFrame"
      ]
     },
     "execution_count": 15,
     "metadata": {},
     "output_type": "execute_result"
    }
   ],
   "source": [
    "type(data)"
   ]
  },
  {
   "cell_type": "code",
   "execution_count": 10,
   "id": "e0bcbeb2-65ca-4405-bdbe-c779670de5c2",
   "metadata": {},
   "outputs": [],
   "source": [
    "returns = data.pct_change().dropna()"
   ]
  },
  {
   "cell_type": "code",
   "execution_count": 12,
   "id": "ecbc44ee-9761-48b0-87ce-7b32bbe44fa1",
   "metadata": {},
   "outputs": [
    {
     "data": {
      "text/plain": [
       "pandas.core.frame.DataFrame"
      ]
     },
     "execution_count": 12,
     "metadata": {},
     "output_type": "execute_result"
    }
   ],
   "source": [
    "type(returns)"
   ]
  },
  {
   "cell_type": "code",
   "execution_count": 13,
   "id": "601eb4a5-c93f-4bbc-accb-2375ceeac328",
   "metadata": {},
   "outputs": [],
   "source": [
    "returns.name = 'SPY'"
   ]
  },
  {
   "cell_type": "code",
   "execution_count": 17,
   "id": "75fb5c45-d295-4938-9ef1-dd000f2b2130",
   "metadata": {},
   "outputs": [
    {
     "data": {
      "text/plain": [
       "pandas.core.frame.DataFrame"
      ]
     },
     "execution_count": 17,
     "metadata": {},
     "output_type": "execute_result"
    }
   ],
   "source": [
    "type(returns)"
   ]
  },
  {
   "cell_type": "code",
   "execution_count": 61,
   "id": "366e4c4e-dc8c-4f8f-a31f-1254918f98e7",
   "metadata": {},
   "outputs": [
    {
     "name": "stderr",
     "output_type": "stream",
     "text": [
      "C:\\Users\\erwin\\AppData\\Local\\Temp\\ipykernel_16260\\97333662.py:1: FutureWarning: The argument 'date_parser' is deprecated and will be removed in a future version. Please use 'date_format' instead, or read your data in as 'object' dtype and then call 'to_datetime'.\n",
      "  ff = web.DataReader('F-F_Research_Data_Factors','famafrench',start='2000-01-01')[0]\n",
      "C:\\Users\\erwin\\AppData\\Local\\Temp\\ipykernel_16260\\97333662.py:1: FutureWarning: The argument 'date_parser' is deprecated and will be removed in a future version. Please use 'date_format' instead, or read your data in as 'object' dtype and then call 'to_datetime'.\n",
      "  ff = web.DataReader('F-F_Research_Data_Factors','famafrench',start='2000-01-01')[0]\n"
     ]
    }
   ],
   "source": [
    "ff = web.DataReader('F-F_Research_Data_Factors','famafrench',start='2000-01-01')[0]"
   ]
  },
  {
   "cell_type": "code",
   "execution_count": 32,
   "id": "86613101-12a6-45dd-b37d-f796fa6bfcb9",
   "metadata": {},
   "outputs": [
    {
     "data": {
      "text/plain": [
       "Index(['Mkt-RF', 'SMB', 'HML', 'RF'], dtype='object')"
      ]
     },
     "execution_count": 32,
     "metadata": {},
     "output_type": "execute_result"
    }
   ],
   "source": [
    "ff.columns"
   ]
  },
  {
   "cell_type": "code",
   "execution_count": 62,
   "id": "c7f20153-63e9-42a9-bce3-2472ab5d5c47",
   "metadata": {},
   "outputs": [],
   "source": [
    "ff = ff/100"
   ]
  },
  {
   "cell_type": "code",
   "execution_count": 35,
   "id": "1db82d0d-dddf-4f9c-babf-07f014d9aadf",
   "metadata": {},
   "outputs": [],
   "source": [
    "merged = returns.join(ff, how='inner')"
   ]
  },
  {
   "cell_type": "code",
   "execution_count": 40,
   "id": "56feb3c9-1656-4dd6-915c-6f554437a83f",
   "metadata": {},
   "outputs": [
    {
     "data": {
      "text/html": [
       "<div>\n",
       "<style scoped>\n",
       "    .dataframe tbody tr th:only-of-type {\n",
       "        vertical-align: middle;\n",
       "    }\n",
       "\n",
       "    .dataframe tbody tr th {\n",
       "        vertical-align: top;\n",
       "    }\n",
       "\n",
       "    .dataframe thead th {\n",
       "        text-align: right;\n",
       "    }\n",
       "</style>\n",
       "<table border=\"1\" class=\"dataframe\">\n",
       "  <thead>\n",
       "    <tr style=\"text-align: right;\">\n",
       "      <th></th>\n",
       "      <th>SPY</th>\n",
       "      <th>Mkt-RF</th>\n",
       "      <th>SMB</th>\n",
       "      <th>HML</th>\n",
       "      <th>RF</th>\n",
       "    </tr>\n",
       "    <tr>\n",
       "      <th>Date</th>\n",
       "      <th></th>\n",
       "      <th></th>\n",
       "      <th></th>\n",
       "      <th></th>\n",
       "      <th></th>\n",
       "    </tr>\n",
       "  </thead>\n",
       "  <tbody>\n",
       "  </tbody>\n",
       "</table>\n",
       "</div>"
      ],
      "text/plain": [
       "Empty DataFrame\n",
       "Columns: [SPY, Mkt-RF, SMB, HML, RF]\n",
       "Index: []"
      ]
     },
     "execution_count": 40,
     "metadata": {},
     "output_type": "execute_result"
    }
   ],
   "source": [
    "merged"
   ]
  },
  {
   "cell_type": "code",
   "execution_count": 63,
   "id": "50a6a495-7593-4de8-8b1d-c590cf86c49b",
   "metadata": {},
   "outputs": [
    {
     "data": {
      "text/html": [
       "<div>\n",
       "<style scoped>\n",
       "    .dataframe tbody tr th:only-of-type {\n",
       "        vertical-align: middle;\n",
       "    }\n",
       "\n",
       "    .dataframe tbody tr th {\n",
       "        vertical-align: top;\n",
       "    }\n",
       "\n",
       "    .dataframe thead th {\n",
       "        text-align: right;\n",
       "    }\n",
       "</style>\n",
       "<table border=\"1\" class=\"dataframe\">\n",
       "  <thead>\n",
       "    <tr style=\"text-align: right;\">\n",
       "      <th></th>\n",
       "      <th>Mkt-RF</th>\n",
       "      <th>SMB</th>\n",
       "      <th>HML</th>\n",
       "      <th>RF</th>\n",
       "    </tr>\n",
       "    <tr>\n",
       "      <th>Date</th>\n",
       "      <th></th>\n",
       "      <th></th>\n",
       "      <th></th>\n",
       "      <th></th>\n",
       "    </tr>\n",
       "  </thead>\n",
       "  <tbody>\n",
       "    <tr>\n",
       "      <th>2000-01</th>\n",
       "      <td>-0.0474</td>\n",
       "      <td>0.0516</td>\n",
       "      <td>-0.0112</td>\n",
       "      <td>0.0041</td>\n",
       "    </tr>\n",
       "    <tr>\n",
       "      <th>2000-02</th>\n",
       "      <td>0.0246</td>\n",
       "      <td>0.2125</td>\n",
       "      <td>-0.0977</td>\n",
       "      <td>0.0043</td>\n",
       "    </tr>\n",
       "    <tr>\n",
       "      <th>2000-03</th>\n",
       "      <td>0.0521</td>\n",
       "      <td>-0.1741</td>\n",
       "      <td>0.0850</td>\n",
       "      <td>0.0047</td>\n",
       "    </tr>\n",
       "    <tr>\n",
       "      <th>2000-04</th>\n",
       "      <td>-0.0639</td>\n",
       "      <td>-0.0600</td>\n",
       "      <td>0.0645</td>\n",
       "      <td>0.0046</td>\n",
       "    </tr>\n",
       "    <tr>\n",
       "      <th>2000-05</th>\n",
       "      <td>-0.0439</td>\n",
       "      <td>-0.0608</td>\n",
       "      <td>0.0459</td>\n",
       "      <td>0.0050</td>\n",
       "    </tr>\n",
       "    <tr>\n",
       "      <th>...</th>\n",
       "      <td>...</td>\n",
       "      <td>...</td>\n",
       "      <td>...</td>\n",
       "      <td>...</td>\n",
       "    </tr>\n",
       "    <tr>\n",
       "      <th>2024-12</th>\n",
       "      <td>-0.0317</td>\n",
       "      <td>-0.0272</td>\n",
       "      <td>-0.0300</td>\n",
       "      <td>0.0037</td>\n",
       "    </tr>\n",
       "    <tr>\n",
       "      <th>2025-01</th>\n",
       "      <td>0.0280</td>\n",
       "      <td>-0.0195</td>\n",
       "      <td>0.0162</td>\n",
       "      <td>0.0037</td>\n",
       "    </tr>\n",
       "    <tr>\n",
       "      <th>2025-02</th>\n",
       "      <td>-0.0244</td>\n",
       "      <td>-0.0581</td>\n",
       "      <td>0.0491</td>\n",
       "      <td>0.0033</td>\n",
       "    </tr>\n",
       "    <tr>\n",
       "      <th>2025-03</th>\n",
       "      <td>-0.0639</td>\n",
       "      <td>-0.0276</td>\n",
       "      <td>0.0290</td>\n",
       "      <td>0.0034</td>\n",
       "    </tr>\n",
       "    <tr>\n",
       "      <th>2025-04</th>\n",
       "      <td>-0.0084</td>\n",
       "      <td>-0.0058</td>\n",
       "      <td>-0.0341</td>\n",
       "      <td>0.0035</td>\n",
       "    </tr>\n",
       "  </tbody>\n",
       "</table>\n",
       "<p>304 rows × 4 columns</p>\n",
       "</div>"
      ],
      "text/plain": [
       "         Mkt-RF     SMB     HML      RF\n",
       "Date                                   \n",
       "2000-01 -0.0474  0.0516 -0.0112  0.0041\n",
       "2000-02  0.0246  0.2125 -0.0977  0.0043\n",
       "2000-03  0.0521 -0.1741  0.0850  0.0047\n",
       "2000-04 -0.0639 -0.0600  0.0645  0.0046\n",
       "2000-05 -0.0439 -0.0608  0.0459  0.0050\n",
       "...         ...     ...     ...     ...\n",
       "2024-12 -0.0317 -0.0272 -0.0300  0.0037\n",
       "2025-01  0.0280 -0.0195  0.0162  0.0037\n",
       "2025-02 -0.0244 -0.0581  0.0491  0.0033\n",
       "2025-03 -0.0639 -0.0276  0.0290  0.0034\n",
       "2025-04 -0.0084 -0.0058 -0.0341  0.0035\n",
       "\n",
       "[304 rows x 4 columns]"
      ]
     },
     "execution_count": 63,
     "metadata": {},
     "output_type": "execute_result"
    }
   ],
   "source": [
    "ff"
   ]
  },
  {
   "cell_type": "code",
   "execution_count": 67,
   "id": "40071fcf-0ba8-4063-ac04-0880cfdced04",
   "metadata": {},
   "outputs": [],
   "source": [
    "ff.index = ff.index.to_timestamp(how='end').normalize()"
   ]
  },
  {
   "cell_type": "code",
   "execution_count": 73,
   "id": "b77e1dcb-eb41-4c69-a14b-72215e47e0c0",
   "metadata": {},
   "outputs": [
    {
     "data": {
      "text/html": [
       "<div>\n",
       "<style scoped>\n",
       "    .dataframe tbody tr th:only-of-type {\n",
       "        vertical-align: middle;\n",
       "    }\n",
       "\n",
       "    .dataframe tbody tr th {\n",
       "        vertical-align: top;\n",
       "    }\n",
       "\n",
       "    .dataframe thead th {\n",
       "        text-align: right;\n",
       "    }\n",
       "</style>\n",
       "<table border=\"1\" class=\"dataframe\">\n",
       "  <thead>\n",
       "    <tr style=\"text-align: right;\">\n",
       "      <th></th>\n",
       "      <th>Mkt-RF</th>\n",
       "      <th>SMB</th>\n",
       "      <th>HML</th>\n",
       "      <th>RF</th>\n",
       "    </tr>\n",
       "    <tr>\n",
       "      <th>Date</th>\n",
       "      <th></th>\n",
       "      <th></th>\n",
       "      <th></th>\n",
       "      <th></th>\n",
       "    </tr>\n",
       "  </thead>\n",
       "  <tbody>\n",
       "    <tr>\n",
       "      <th>2000-01-31</th>\n",
       "      <td>-0.0474</td>\n",
       "      <td>0.0516</td>\n",
       "      <td>-0.0112</td>\n",
       "      <td>0.0041</td>\n",
       "    </tr>\n",
       "    <tr>\n",
       "      <th>2000-02-29</th>\n",
       "      <td>0.0246</td>\n",
       "      <td>0.2125</td>\n",
       "      <td>-0.0977</td>\n",
       "      <td>0.0043</td>\n",
       "    </tr>\n",
       "    <tr>\n",
       "      <th>2000-03-31</th>\n",
       "      <td>0.0521</td>\n",
       "      <td>-0.1741</td>\n",
       "      <td>0.0850</td>\n",
       "      <td>0.0047</td>\n",
       "    </tr>\n",
       "    <tr>\n",
       "      <th>2000-04-30</th>\n",
       "      <td>-0.0639</td>\n",
       "      <td>-0.0600</td>\n",
       "      <td>0.0645</td>\n",
       "      <td>0.0046</td>\n",
       "    </tr>\n",
       "    <tr>\n",
       "      <th>2000-05-31</th>\n",
       "      <td>-0.0439</td>\n",
       "      <td>-0.0608</td>\n",
       "      <td>0.0459</td>\n",
       "      <td>0.0050</td>\n",
       "    </tr>\n",
       "    <tr>\n",
       "      <th>...</th>\n",
       "      <td>...</td>\n",
       "      <td>...</td>\n",
       "      <td>...</td>\n",
       "      <td>...</td>\n",
       "    </tr>\n",
       "    <tr>\n",
       "      <th>2024-12-31</th>\n",
       "      <td>-0.0317</td>\n",
       "      <td>-0.0272</td>\n",
       "      <td>-0.0300</td>\n",
       "      <td>0.0037</td>\n",
       "    </tr>\n",
       "    <tr>\n",
       "      <th>2025-01-31</th>\n",
       "      <td>0.0280</td>\n",
       "      <td>-0.0195</td>\n",
       "      <td>0.0162</td>\n",
       "      <td>0.0037</td>\n",
       "    </tr>\n",
       "    <tr>\n",
       "      <th>2025-02-28</th>\n",
       "      <td>-0.0244</td>\n",
       "      <td>-0.0581</td>\n",
       "      <td>0.0491</td>\n",
       "      <td>0.0033</td>\n",
       "    </tr>\n",
       "    <tr>\n",
       "      <th>2025-03-31</th>\n",
       "      <td>-0.0639</td>\n",
       "      <td>-0.0276</td>\n",
       "      <td>0.0290</td>\n",
       "      <td>0.0034</td>\n",
       "    </tr>\n",
       "    <tr>\n",
       "      <th>2025-04-30</th>\n",
       "      <td>-0.0084</td>\n",
       "      <td>-0.0058</td>\n",
       "      <td>-0.0341</td>\n",
       "      <td>0.0035</td>\n",
       "    </tr>\n",
       "  </tbody>\n",
       "</table>\n",
       "<p>304 rows × 4 columns</p>\n",
       "</div>"
      ],
      "text/plain": [
       "            Mkt-RF     SMB     HML      RF\n",
       "Date                                      \n",
       "2000-01-31 -0.0474  0.0516 -0.0112  0.0041\n",
       "2000-02-29  0.0246  0.2125 -0.0977  0.0043\n",
       "2000-03-31  0.0521 -0.1741  0.0850  0.0047\n",
       "2000-04-30 -0.0639 -0.0600  0.0645  0.0046\n",
       "2000-05-31 -0.0439 -0.0608  0.0459  0.0050\n",
       "...            ...     ...     ...     ...\n",
       "2024-12-31 -0.0317 -0.0272 -0.0300  0.0037\n",
       "2025-01-31  0.0280 -0.0195  0.0162  0.0037\n",
       "2025-02-28 -0.0244 -0.0581  0.0491  0.0033\n",
       "2025-03-31 -0.0639 -0.0276  0.0290  0.0034\n",
       "2025-04-30 -0.0084 -0.0058 -0.0341  0.0035\n",
       "\n",
       "[304 rows x 4 columns]"
      ]
     },
     "execution_count": 73,
     "metadata": {},
     "output_type": "execute_result"
    }
   ],
   "source": [
    "ff"
   ]
  },
  {
   "cell_type": "code",
   "execution_count": 72,
   "id": "beefd357-9bd7-421f-bcd9-f38b26017cf7",
   "metadata": {},
   "outputs": [
    {
     "data": {
      "text/plain": [
       "Date\n",
       "2000-01-31    0.027139\n",
       "2000-02-29    0.009642\n",
       "2000-03-31    0.011349\n",
       "2000-05-31    0.002193\n",
       "2000-06-30    0.007586\n",
       "                ...   \n",
       "2024-12-31   -0.003638\n",
       "2025-01-31   -0.005322\n",
       "2025-02-28    0.015606\n",
       "2025-03-31    0.006713\n",
       "2025-04-30    0.000397\n",
       "Name: SPY, Length: 216, dtype: float64"
      ]
     },
     "execution_count": 72,
     "metadata": {},
     "output_type": "execute_result"
    }
   ],
   "source": [
    "merged.iloc[:, 0] "
   ]
  },
  {
   "cell_type": "code",
   "execution_count": 57,
   "id": "66f172dd-2856-48aa-bdbb-16d3c3ae6d26",
   "metadata": {},
   "outputs": [],
   "source": [
    "ff.index = ff.index.normalize()"
   ]
  },
  {
   "cell_type": "code",
   "execution_count": 68,
   "id": "b6518e43-67ed-4e2a-a70f-bfce9ee55bd2",
   "metadata": {},
   "outputs": [],
   "source": [
    "merged = returns.join(ff, how='inner')"
   ]
  },
  {
   "cell_type": "code",
   "execution_count": 69,
   "id": "292447c7-7d35-4793-b8fd-9c146651fbe9",
   "metadata": {},
   "outputs": [
    {
     "data": {
      "text/html": [
       "<div>\n",
       "<style scoped>\n",
       "    .dataframe tbody tr th:only-of-type {\n",
       "        vertical-align: middle;\n",
       "    }\n",
       "\n",
       "    .dataframe tbody tr th {\n",
       "        vertical-align: top;\n",
       "    }\n",
       "\n",
       "    .dataframe thead th {\n",
       "        text-align: right;\n",
       "    }\n",
       "</style>\n",
       "<table border=\"1\" class=\"dataframe\">\n",
       "  <thead>\n",
       "    <tr style=\"text-align: right;\">\n",
       "      <th></th>\n",
       "      <th>SPY</th>\n",
       "      <th>Mkt-RF</th>\n",
       "      <th>SMB</th>\n",
       "      <th>HML</th>\n",
       "      <th>RF</th>\n",
       "    </tr>\n",
       "    <tr>\n",
       "      <th>Date</th>\n",
       "      <th></th>\n",
       "      <th></th>\n",
       "      <th></th>\n",
       "      <th></th>\n",
       "      <th></th>\n",
       "    </tr>\n",
       "  </thead>\n",
       "  <tbody>\n",
       "    <tr>\n",
       "      <th>2000-01-31</th>\n",
       "      <td>0.027139</td>\n",
       "      <td>-0.0474</td>\n",
       "      <td>0.0516</td>\n",
       "      <td>-0.0112</td>\n",
       "      <td>0.0041</td>\n",
       "    </tr>\n",
       "    <tr>\n",
       "      <th>2000-02-29</th>\n",
       "      <td>0.009642</td>\n",
       "      <td>0.0246</td>\n",
       "      <td>0.2125</td>\n",
       "      <td>-0.0977</td>\n",
       "      <td>0.0043</td>\n",
       "    </tr>\n",
       "    <tr>\n",
       "      <th>2000-03-31</th>\n",
       "      <td>0.011349</td>\n",
       "      <td>0.0521</td>\n",
       "      <td>-0.1741</td>\n",
       "      <td>0.0850</td>\n",
       "      <td>0.0047</td>\n",
       "    </tr>\n",
       "    <tr>\n",
       "      <th>2000-05-31</th>\n",
       "      <td>0.002193</td>\n",
       "      <td>-0.0439</td>\n",
       "      <td>-0.0608</td>\n",
       "      <td>0.0459</td>\n",
       "      <td>0.0050</td>\n",
       "    </tr>\n",
       "    <tr>\n",
       "      <th>2000-06-30</th>\n",
       "      <td>0.007586</td>\n",
       "      <td>0.0468</td>\n",
       "      <td>0.1271</td>\n",
       "      <td>-0.0804</td>\n",
       "      <td>0.0040</td>\n",
       "    </tr>\n",
       "    <tr>\n",
       "      <th>...</th>\n",
       "      <td>...</td>\n",
       "      <td>...</td>\n",
       "      <td>...</td>\n",
       "      <td>...</td>\n",
       "      <td>...</td>\n",
       "    </tr>\n",
       "    <tr>\n",
       "      <th>2024-12-31</th>\n",
       "      <td>-0.003638</td>\n",
       "      <td>-0.0317</td>\n",
       "      <td>-0.0272</td>\n",
       "      <td>-0.0300</td>\n",
       "      <td>0.0037</td>\n",
       "    </tr>\n",
       "    <tr>\n",
       "      <th>2025-01-31</th>\n",
       "      <td>-0.005322</td>\n",
       "      <td>0.0280</td>\n",
       "      <td>-0.0195</td>\n",
       "      <td>0.0162</td>\n",
       "      <td>0.0037</td>\n",
       "    </tr>\n",
       "    <tr>\n",
       "      <th>2025-02-28</th>\n",
       "      <td>0.015606</td>\n",
       "      <td>-0.0244</td>\n",
       "      <td>-0.0581</td>\n",
       "      <td>0.0491</td>\n",
       "      <td>0.0033</td>\n",
       "    </tr>\n",
       "    <tr>\n",
       "      <th>2025-03-31</th>\n",
       "      <td>0.006713</td>\n",
       "      <td>-0.0639</td>\n",
       "      <td>-0.0276</td>\n",
       "      <td>0.0290</td>\n",
       "      <td>0.0034</td>\n",
       "    </tr>\n",
       "    <tr>\n",
       "      <th>2025-04-30</th>\n",
       "      <td>0.000397</td>\n",
       "      <td>-0.0084</td>\n",
       "      <td>-0.0058</td>\n",
       "      <td>-0.0341</td>\n",
       "      <td>0.0035</td>\n",
       "    </tr>\n",
       "  </tbody>\n",
       "</table>\n",
       "<p>216 rows × 5 columns</p>\n",
       "</div>"
      ],
      "text/plain": [
       "                 SPY  Mkt-RF     SMB     HML      RF\n",
       "Date                                                \n",
       "2000-01-31  0.027139 -0.0474  0.0516 -0.0112  0.0041\n",
       "2000-02-29  0.009642  0.0246  0.2125 -0.0977  0.0043\n",
       "2000-03-31  0.011349  0.0521 -0.1741  0.0850  0.0047\n",
       "2000-05-31  0.002193 -0.0439 -0.0608  0.0459  0.0050\n",
       "2000-06-30  0.007586  0.0468  0.1271 -0.0804  0.0040\n",
       "...              ...     ...     ...     ...     ...\n",
       "2024-12-31 -0.003638 -0.0317 -0.0272 -0.0300  0.0037\n",
       "2025-01-31 -0.005322  0.0280 -0.0195  0.0162  0.0037\n",
       "2025-02-28  0.015606 -0.0244 -0.0581  0.0491  0.0033\n",
       "2025-03-31  0.006713 -0.0639 -0.0276  0.0290  0.0034\n",
       "2025-04-30  0.000397 -0.0084 -0.0058 -0.0341  0.0035\n",
       "\n",
       "[216 rows x 5 columns]"
      ]
     },
     "execution_count": 69,
     "metadata": {},
     "output_type": "execute_result"
    }
   ],
   "source": [
    "merged"
   ]
  },
  {
   "cell_type": "code",
   "execution_count": null,
   "id": "f3c7b925-ae18-4804-8609-cbe8a31c0814",
   "metadata": {},
   "outputs": [],
   "source": []
  }
 ],
 "metadata": {
  "kernelspec": {
   "display_name": "Python 3 (ipykernel)",
   "language": "python",
   "name": "python3"
  },
  "language_info": {
   "codemirror_mode": {
    "name": "ipython",
    "version": 3
   },
   "file_extension": ".py",
   "mimetype": "text/x-python",
   "name": "python",
   "nbconvert_exporter": "python",
   "pygments_lexer": "ipython3",
   "version": "3.11.13"
  }
 },
 "nbformat": 4,
 "nbformat_minor": 5
}
